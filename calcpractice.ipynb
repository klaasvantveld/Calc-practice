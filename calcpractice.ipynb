{
 "cells": [
  {
   "cell_type": "markdown",
   "id": "6eb397a9",
   "metadata": {
    "heading_collapsed": true
   },
   "source": [
    "# Calc practice\n",
    "\n",
    "Click on the arrow to the left to expand or collapse"
   ]
  },
  {
   "cell_type": "markdown",
   "id": "05bb1686",
   "metadata": {
    "heading_collapsed": true,
    "hidden": true
   },
   "source": [
    "## Question 1\n",
    "\n",
    "Differentiate the following expression w.r.t. $x$. Click on the arrow to the left to see the steps and the final answer.\n",
    "\n",
    "\\begin{align*}\n",
    "\\int_0^{\\infty} f(x)\\,dx\n",
    "\\end{align*}"
   ]
  },
  {
   "cell_type": "markdown",
   "id": "2adb143d",
   "metadata": {
    "heading_collapsed": true,
    "hidden": true
   },
   "source": [
    "### Answer:\n",
    "\n",
    "\\begin{align*}\n",
    "\\int_0^{\\infty} f'(x)\\,dx\n",
    "\\end{align*}"
   ]
  },
  {
   "cell_type": "markdown",
   "id": "5b5055f7",
   "metadata": {
    "heading_collapsed": true,
    "hidden": true
   },
   "source": [
    "## Question 2\n",
    "\n",
    "Differentiate the following expression w.r.t. $k$\n",
    "\\begin{equation}\n",
    "\\dfrac{mY}{g(k)}\n",
    "\\end{equation}"
   ]
  },
  {
   "cell_type": "markdown",
   "id": "cf398b5c",
   "metadata": {
    "heading_collapsed": true,
    "hidden": true
   },
   "source": [
    "#### Step 1: Use the multiplicative constant rule"
   ]
  },
  {
   "cell_type": "markdown",
   "id": "363d8127",
   "metadata": {
    "hidden": true
   },
   "source": [
    "\\begin{equation}\n",
    "\\dfrac{d}{dk}\\fbox{$mY\\cdot\\dfrac{1}{g(k)}$} = mY\\cdot\\dfrac{d}{dk}\\fbox{$\\dfrac{1}{g(k)}$}\n",
    "\\end{equation}"
   ]
  },
  {
   "cell_type": "markdown",
   "id": "2b083557",
   "metadata": {
    "heading_collapsed": true,
    "hidden": true
   },
   "source": [
    "#### Step 2: Rewrite the boxed term"
   ]
  },
  {
   "cell_type": "markdown",
   "id": "c91273c0",
   "metadata": {
    "hidden": true
   },
   "source": [
    "\\begin{equation}\n",
    "mY\\cdot\\dfrac{d}{dk}\\fbox{$\\dfrac{1}{g(k)}$} = mY\\cdot\\dfrac{d}{dk}\\fbox{$g(k)^{-1}$}\n",
    "\\end{equation}"
   ]
  },
  {
   "cell_type": "markdown",
   "id": "88865755",
   "metadata": {
    "heading_collapsed": true,
    "hidden": true
   },
   "source": [
    "#### Step 3: Use the power rule"
   ]
  },
  {
   "cell_type": "markdown",
   "id": "f630a86a",
   "metadata": {
    "hidden": true
   },
   "source": [
    "\\begin{equation}\n",
    "    mY\\cdot\\dfrac{d}{dk}\\fbox{$g(k)^{-1}$} = mY\\cdot-1\\cdot g(k)^{-2}\\cdot \\dfrac{d}{dk}\\fbox{$g(k)$}\n",
    "\\end{equation}"
   ]
  }
 ],
 "metadata": {
  "kernelspec": {
   "display_name": "Python 3",
   "language": "python",
   "name": "python3"
  },
  "language_info": {
   "codemirror_mode": {
    "name": "ipython",
    "version": 3
   },
   "file_extension": ".py",
   "mimetype": "text/x-python",
   "name": "python",
   "nbconvert_exporter": "python",
   "pygments_lexer": "ipython3",
   "version": "3.9.5"
  }
 },
 "nbformat": 4,
 "nbformat_minor": 5
}
