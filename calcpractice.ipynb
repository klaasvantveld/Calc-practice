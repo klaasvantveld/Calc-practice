{
 "cells": [
  {
   "cell_type": "markdown",
   "id": "6eb397a9",
   "metadata": {
    "heading_collapsed": true
   },
   "source": [
    "# Question 1\n",
    "\n",
    "What was Einstein's famous equation?"
   ]
  },
  {
   "cell_type": "markdown",
   "id": "2ef3cdfe",
   "metadata": {
    "hidden": true
   },
   "source": [
    "$E = mc^2$"
   ]
  },
  {
   "cell_type": "markdown",
   "id": "05bb1686",
   "metadata": {},
   "source": [
    "# Question 2\n",
    "\n",
    "How complex can the math get?"
   ]
  },
  {
   "cell_type": "markdown",
   "id": "2adb143d",
   "metadata": {},
   "source": [
    "\\begin{align*}\n",
    "x_{1,2} = \\fbox{$\\dfrac{-b \\pm \\sqrt{b^2 - 4ac}}{2a}$} + \\int_0^{\\infty} f(x)\\,dx\n",
    "\\end{align*}"
   ]
  },
  {
   "cell_type": "code",
   "execution_count": null,
   "id": "050f14a5",
   "metadata": {},
   "outputs": [],
   "source": []
  }
 ],
 "metadata": {
  "kernelspec": {
   "display_name": "Python 3",
   "language": "python",
   "name": "python3"
  },
  "language_info": {
   "codemirror_mode": {
    "name": "ipython",
    "version": 3
   },
   "file_extension": ".py",
   "mimetype": "text/x-python",
   "name": "python",
   "nbconvert_exporter": "python",
   "pygments_lexer": "ipython3",
   "version": "3.9.5"
  }
 },
 "nbformat": 4,
 "nbformat_minor": 5
}
